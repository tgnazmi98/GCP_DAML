{
 "cells": [
  {
   "cell_type": "markdown",
   "metadata": {},
   "source": [
    "## Packages\n",
    "---\n",
    "In this section, we import all the packages that will be used in this experiment"
   ]
  },
  {
   "cell_type": "code",
   "execution_count": 1,
   "metadata": {},
   "outputs": [],
   "source": [
    "#Data Downloading\n",
    "from urllib.request import urlopen\n",
    "import os\n",
    "import gzip\n",
    "\n",
    "#Dataframe Packages\n",
    "import pandas as pd\n",
    "import dask.dataframe as dd\n",
    "\n",
    "# Data Visualization Packages\n",
    "import seaborn as sns\n",
    "import matplotlib.pyplot as plt\n",
    "\n",
    "# Training Data Preparation\n",
    "from imblearn.over_sampling import SMOTE\n",
    "from sklearn.model_selection import train_test_split\n",
    "\n",
    "# Traditional Machine Learning Packages\n",
    "from sklearn.linear_model import LogisticRegression\n",
    "from sklearn.tree import DecisionTreeClassifier\n",
    "from sklearn.ensemble import RandomForestClassifier, GradientBoostingClassifier\n",
    "from xgboost import XGBClassifier\n",
    "\n",
    "# Deep Learning Packages\n",
    "from keras.models import Sequential\n",
    "from keras.layers import Dense\n",
    "from keras.layers import LSTM\n",
    "from keras.layers import Dropout\n",
    "from keras import callbacks\n",
    "\n",
    "# Saving ML Model\n",
    "import joblib\n",
    "\n",
    "import warnings\n",
    "warnings.filterwarnings(\"ignore\")"
   ]
  },
  {
   "cell_type": "markdown",
   "metadata": {},
   "source": [
    "## Data Downloading\n",
    "---\n",
    "In this section, we will be using urllib to request and download job event and task event table from google cloud storage"
   ]
  },
  {
   "cell_type": "code",
   "execution_count": null,
   "metadata": {},
   "outputs": [],
   "source": [
    "print('Job Event Table')\n",
    "print('Download Started')\n",
    "#job Usage Table\n",
    "url1 = 'https://commondatastorage.googleapis.com/clusterdata-2011-2/job_events/part-'\n",
    "url2 = '-of-00500.csv.gz'\n",
    "for x in range(500):\n",
    "    while True:\n",
    "        try:\n",
    "            url = url1+(\"%05d\" % x)+url2\n",
    "            fname = 'data/job_events/part-'+(\"%05d\" % x)+'-of-00500.csv.gz'\n",
    "            data = urlopen(url).read()\n",
    "            with open(fname, 'wb') as f:\n",
    "                f.write(data)\n",
    "        except:\n",
    "            continue\n",
    "        break\n",
    "print('Download Complete')"
   ]
  },
  {
   "cell_type": "code",
   "execution_count": null,
   "metadata": {},
   "outputs": [],
   "source": [
    "print('Task Event Table')\n",
    "print('Download Started')\n",
    "#Task Usage Table\n",
    "url1 = 'https://commondatastorage.googleapis.com/clusterdata-2011-2/task_events/part-'\n",
    "url2 = '-of-00500.csv.gz'\n",
    "for x in range(500):\n",
    "    while True:\n",
    "        try:\n",
    "            url = url1+(\"%05d\" % x)+url2\n",
    "            fname = 'data/task_events/part-'+(\"%05d\" % x)+'-of-00500.csv.gz'\n",
    "            data = urlopen(url).read()\n",
    "            with open(fname, 'wb') as f:\n",
    "                f.write(data)\n",
    "        except:\n",
    "            continue\n",
    "        break\n",
    "print('Download Complete')"
   ]
  },
  {
   "cell_type": "markdown",
   "metadata": {},
   "source": [
    "## Data Extraction\n",
    "---\n",
    "In this section, the data that is downloaded from the cloud will be extracted"
   ]
  },
  {
   "cell_type": "code",
   "execution_count": null,
   "metadata": {},
   "outputs": [],
   "source": [
    "def gunzip(source_filepath, dest_filepath, block_size=65536):\n",
    "    with gzip.open(source_filepath, 'rb') as s_file, \\\n",
    "            open(dest_filepath, 'wb') as d_file:\n",
    "        while True:\n",
    "            block = s_file.read(block_size)\n",
    "            if not block:\n",
    "                break\n",
    "            else:\n",
    "                d_file.write(block)"
   ]
  },
  {
   "cell_type": "code",
   "execution_count": null,
   "metadata": {},
   "outputs": [],
   "source": [
    "path1 = 'data/job_events/part-'\n",
    "path2 = '-of-00500.csv.gz'\n",
    "path3 = '-of-00500.csv'\n",
    "print('Extraction Started')\n",
    "for x in range(500):\n",
    "    spath = path1 + ('%05d' % x) + path2\n",
    "    dpath = path1 + ('%05d' % x) + path3\n",
    "    gunzip(spath, dpath)\n",
    "    os.remove(spath)\n",
    "print('Extraction Finished')"
   ]
  },
  {
   "cell_type": "code",
   "execution_count": null,
   "metadata": {},
   "outputs": [],
   "source": [
    "path1 = 'data/task_events/part-'\n",
    "path2 = '-of-00500.csv.gz'\n",
    "path3 = '-of-00500.csv'\n",
    "print('Extraction Started')\n",
    "for x in range(500):\n",
    "    spath = path1 + ('%05d' % x) + path2\n",
    "    dpath = path1 + ('%05d' % x) + path3\n",
    "    gunzip(spath, dpath)\n",
    "    os.remove(spath)\n",
    "print('Extraction Finished')"
   ]
  },
  {
   "cell_type": "markdown",
   "metadata": {},
   "source": [
    "## Data Preparation"
   ]
  },
  {
   "cell_type": "markdown",
   "metadata": {},
   "source": [
    "### Data Extraction\n",
    "---\n",
    "In this section, we load the data into the memory. We use dask dataframe as the amount of data is large and cannot be save at the RAM"
   ]
  },
  {
   "cell_type": "code",
   "execution_count": 2,
   "metadata": {},
   "outputs": [],
   "source": [
    "job_event = dd.read_csv('data/job_events/*.csv', names=['Time','Missing Info','Job ID','Event Type','User Name','Scheduling Class','Job Name','Logical Job Name'],assume_missing=True)\n",
    "task_event = dd.read_csv('data/task_events/*.csv', names=['Time','Missing Info','Job ID','Task Index','Machine ID','Event Type','User Name','Scheduling Class','Priority','CPU Request','Memory Request','Disk Space Request','Different Machine Restriction'],assume_missing=True)"
   ]
  },
  {
   "cell_type": "code",
   "execution_count": 3,
   "metadata": {},
   "outputs": [
    {
     "data": {
      "text/html": [
       "<div>\n",
       "<style scoped>\n",
       "    .dataframe tbody tr th:only-of-type {\n",
       "        vertical-align: middle;\n",
       "    }\n",
       "\n",
       "    .dataframe tbody tr th {\n",
       "        vertical-align: top;\n",
       "    }\n",
       "\n",
       "    .dataframe thead th {\n",
       "        text-align: right;\n",
       "    }\n",
       "</style>\n",
       "<table border=\"1\" class=\"dataframe\">\n",
       "  <thead>\n",
       "    <tr style=\"text-align: right;\">\n",
       "      <th></th>\n",
       "      <th>Time</th>\n",
       "      <th>Missing Info</th>\n",
       "      <th>Job ID</th>\n",
       "      <th>Event Type</th>\n",
       "      <th>User Name</th>\n",
       "      <th>Scheduling Class</th>\n",
       "      <th>Job Name</th>\n",
       "      <th>Logical Job Name</th>\n",
       "    </tr>\n",
       "  </thead>\n",
       "  <tbody>\n",
       "    <tr>\n",
       "      <th>0</th>\n",
       "      <td>0.0</td>\n",
       "      <td>NaN</td>\n",
       "      <td>3418309.0</td>\n",
       "      <td>0.0</td>\n",
       "      <td>70s3v5qRyCO/1PCdI6fVXnrW8FU/w+5CKRSa72xgcIo=</td>\n",
       "      <td>3.0</td>\n",
       "      <td>IHgtoxEBuUTHNbUeVs4hzptMY4n8rZKLbZg+Jh5fNG4=</td>\n",
       "      <td>wAmgn2H74cdoMuSFwJF3NaUEaudVBTZ0/HaNZBwIpEQ=</td>\n",
       "    </tr>\n",
       "    <tr>\n",
       "      <th>1</th>\n",
       "      <td>0.0</td>\n",
       "      <td>NaN</td>\n",
       "      <td>3418314.0</td>\n",
       "      <td>0.0</td>\n",
       "      <td>70s3v5qRyCO/1PCdI6fVXnrW8FU/w+5CKRSa72xgcIo=</td>\n",
       "      <td>3.0</td>\n",
       "      <td>L52XDyhi9x9ChmVBZ1qavOFmnzPeVsvQ2QyGmBZcV4s=</td>\n",
       "      <td>ShNjeaoUeqGV2i9WMKEX9HTeuc9K2Fdfovibt7Mp6qI=</td>\n",
       "    </tr>\n",
       "    <tr>\n",
       "      <th>2</th>\n",
       "      <td>0.0</td>\n",
       "      <td>NaN</td>\n",
       "      <td>3418319.0</td>\n",
       "      <td>0.0</td>\n",
       "      <td>70s3v5qRyCO/1PCdI6fVXnrW8FU/w+5CKRSa72xgcIo=</td>\n",
       "      <td>3.0</td>\n",
       "      <td>vq0IN3BWEbkDjYgYvkrVyH6OWoUoDwFFf3j/syEZzLA=</td>\n",
       "      <td>1A2GM17AzHRcKJcJet/oIF7FOORyFcAOcUSpR9Fqou8=</td>\n",
       "    </tr>\n",
       "    <tr>\n",
       "      <th>3</th>\n",
       "      <td>0.0</td>\n",
       "      <td>NaN</td>\n",
       "      <td>3418324.0</td>\n",
       "      <td>0.0</td>\n",
       "      <td>70s3v5qRyCO/1PCdI6fVXnrW8FU/w+5CKRSa72xgcIo=</td>\n",
       "      <td>3.0</td>\n",
       "      <td>X+Vce15Yu3BCKb7Ttc6hvINAzdfG3NtYEDNNsPdMGKo=</td>\n",
       "      <td>seczVo7MBfi/kH3+eH/40Hxs0l2YKFtXFnamcvMjSQI=</td>\n",
       "    </tr>\n",
       "    <tr>\n",
       "      <th>4</th>\n",
       "      <td>0.0</td>\n",
       "      <td>NaN</td>\n",
       "      <td>3418329.0</td>\n",
       "      <td>0.0</td>\n",
       "      <td>70s3v5qRyCO/1PCdI6fVXnrW8FU/w+5CKRSa72xgcIo=</td>\n",
       "      <td>3.0</td>\n",
       "      <td>EeK3DUWYi1P0vgBTp7wZdUos8UKj/+/FqudTLohMQ9M=</td>\n",
       "      <td>OEeQsaVr4kdGHFwQ2liQlDZ18529HEMmu6B6/3K1cBA=</td>\n",
       "    </tr>\n",
       "  </tbody>\n",
       "</table>\n",
       "</div>"
      ],
      "text/plain": [
       "   Time  Missing Info     Job ID  Event Type  \\\n",
       "0   0.0           NaN  3418309.0         0.0   \n",
       "1   0.0           NaN  3418314.0         0.0   \n",
       "2   0.0           NaN  3418319.0         0.0   \n",
       "3   0.0           NaN  3418324.0         0.0   \n",
       "4   0.0           NaN  3418329.0         0.0   \n",
       "\n",
       "                                      User Name  Scheduling Class  \\\n",
       "0  70s3v5qRyCO/1PCdI6fVXnrW8FU/w+5CKRSa72xgcIo=               3.0   \n",
       "1  70s3v5qRyCO/1PCdI6fVXnrW8FU/w+5CKRSa72xgcIo=               3.0   \n",
       "2  70s3v5qRyCO/1PCdI6fVXnrW8FU/w+5CKRSa72xgcIo=               3.0   \n",
       "3  70s3v5qRyCO/1PCdI6fVXnrW8FU/w+5CKRSa72xgcIo=               3.0   \n",
       "4  70s3v5qRyCO/1PCdI6fVXnrW8FU/w+5CKRSa72xgcIo=               3.0   \n",
       "\n",
       "                                       Job Name  \\\n",
       "0  IHgtoxEBuUTHNbUeVs4hzptMY4n8rZKLbZg+Jh5fNG4=   \n",
       "1  L52XDyhi9x9ChmVBZ1qavOFmnzPeVsvQ2QyGmBZcV4s=   \n",
       "2  vq0IN3BWEbkDjYgYvkrVyH6OWoUoDwFFf3j/syEZzLA=   \n",
       "3  X+Vce15Yu3BCKb7Ttc6hvINAzdfG3NtYEDNNsPdMGKo=   \n",
       "4  EeK3DUWYi1P0vgBTp7wZdUos8UKj/+/FqudTLohMQ9M=   \n",
       "\n",
       "                               Logical Job Name  \n",
       "0  wAmgn2H74cdoMuSFwJF3NaUEaudVBTZ0/HaNZBwIpEQ=  \n",
       "1  ShNjeaoUeqGV2i9WMKEX9HTeuc9K2Fdfovibt7Mp6qI=  \n",
       "2  1A2GM17AzHRcKJcJet/oIF7FOORyFcAOcUSpR9Fqou8=  \n",
       "3  seczVo7MBfi/kH3+eH/40Hxs0l2YKFtXFnamcvMjSQI=  \n",
       "4  OEeQsaVr4kdGHFwQ2liQlDZ18529HEMmu6B6/3K1cBA=  "
      ]
     },
     "execution_count": 3,
     "metadata": {},
     "output_type": "execute_result"
    }
   ],
   "source": [
    "job_event.head()"
   ]
  },
  {
   "cell_type": "code",
   "execution_count": 4,
   "metadata": {},
   "outputs": [
    {
     "data": {
      "text/html": [
       "<div>\n",
       "<style scoped>\n",
       "    .dataframe tbody tr th:only-of-type {\n",
       "        vertical-align: middle;\n",
       "    }\n",
       "\n",
       "    .dataframe tbody tr th {\n",
       "        vertical-align: top;\n",
       "    }\n",
       "\n",
       "    .dataframe thead th {\n",
       "        text-align: right;\n",
       "    }\n",
       "</style>\n",
       "<table border=\"1\" class=\"dataframe\">\n",
       "  <thead>\n",
       "    <tr style=\"text-align: right;\">\n",
       "      <th></th>\n",
       "      <th>Time</th>\n",
       "      <th>Missing Info</th>\n",
       "      <th>Job ID</th>\n",
       "      <th>Task Index</th>\n",
       "      <th>Machine ID</th>\n",
       "      <th>Event Type</th>\n",
       "      <th>User Name</th>\n",
       "      <th>Scheduling Class</th>\n",
       "      <th>Priority</th>\n",
       "      <th>CPU Request</th>\n",
       "      <th>Memory Request</th>\n",
       "      <th>Disk Space Request</th>\n",
       "      <th>Different Machine Restriction</th>\n",
       "    </tr>\n",
       "  </thead>\n",
       "  <tbody>\n",
       "    <tr>\n",
       "      <th>0</th>\n",
       "      <td>0.0</td>\n",
       "      <td>2.0</td>\n",
       "      <td>3418309.0</td>\n",
       "      <td>0.0</td>\n",
       "      <td>4.155527e+09</td>\n",
       "      <td>0.0</td>\n",
       "      <td>70s3v5qRyCO/1PCdI6fVXnrW8FU/w+5CKRSa72xgcIo=</td>\n",
       "      <td>3.0</td>\n",
       "      <td>9.0</td>\n",
       "      <td>NaN</td>\n",
       "      <td>NaN</td>\n",
       "      <td>NaN</td>\n",
       "      <td>NaN</td>\n",
       "    </tr>\n",
       "    <tr>\n",
       "      <th>1</th>\n",
       "      <td>0.0</td>\n",
       "      <td>2.0</td>\n",
       "      <td>3418309.0</td>\n",
       "      <td>1.0</td>\n",
       "      <td>3.291507e+08</td>\n",
       "      <td>0.0</td>\n",
       "      <td>70s3v5qRyCO/1PCdI6fVXnrW8FU/w+5CKRSa72xgcIo=</td>\n",
       "      <td>3.0</td>\n",
       "      <td>9.0</td>\n",
       "      <td>NaN</td>\n",
       "      <td>NaN</td>\n",
       "      <td>NaN</td>\n",
       "      <td>NaN</td>\n",
       "    </tr>\n",
       "    <tr>\n",
       "      <th>2</th>\n",
       "      <td>0.0</td>\n",
       "      <td>NaN</td>\n",
       "      <td>3418314.0</td>\n",
       "      <td>0.0</td>\n",
       "      <td>3.938719e+09</td>\n",
       "      <td>0.0</td>\n",
       "      <td>70s3v5qRyCO/1PCdI6fVXnrW8FU/w+5CKRSa72xgcIo=</td>\n",
       "      <td>3.0</td>\n",
       "      <td>9.0</td>\n",
       "      <td>0.125</td>\n",
       "      <td>0.07446</td>\n",
       "      <td>0.000424</td>\n",
       "      <td>0.0</td>\n",
       "    </tr>\n",
       "    <tr>\n",
       "      <th>3</th>\n",
       "      <td>0.0</td>\n",
       "      <td>NaN</td>\n",
       "      <td>3418314.0</td>\n",
       "      <td>1.0</td>\n",
       "      <td>3.516186e+08</td>\n",
       "      <td>0.0</td>\n",
       "      <td>70s3v5qRyCO/1PCdI6fVXnrW8FU/w+5CKRSa72xgcIo=</td>\n",
       "      <td>3.0</td>\n",
       "      <td>9.0</td>\n",
       "      <td>0.125</td>\n",
       "      <td>0.07446</td>\n",
       "      <td>0.000424</td>\n",
       "      <td>0.0</td>\n",
       "    </tr>\n",
       "    <tr>\n",
       "      <th>4</th>\n",
       "      <td>0.0</td>\n",
       "      <td>2.0</td>\n",
       "      <td>3418319.0</td>\n",
       "      <td>0.0</td>\n",
       "      <td>4.310529e+08</td>\n",
       "      <td>0.0</td>\n",
       "      <td>70s3v5qRyCO/1PCdI6fVXnrW8FU/w+5CKRSa72xgcIo=</td>\n",
       "      <td>3.0</td>\n",
       "      <td>9.0</td>\n",
       "      <td>NaN</td>\n",
       "      <td>NaN</td>\n",
       "      <td>NaN</td>\n",
       "      <td>NaN</td>\n",
       "    </tr>\n",
       "  </tbody>\n",
       "</table>\n",
       "</div>"
      ],
      "text/plain": [
       "   Time  Missing Info     Job ID  Task Index    Machine ID  Event Type  \\\n",
       "0   0.0           2.0  3418309.0         0.0  4.155527e+09         0.0   \n",
       "1   0.0           2.0  3418309.0         1.0  3.291507e+08         0.0   \n",
       "2   0.0           NaN  3418314.0         0.0  3.938719e+09         0.0   \n",
       "3   0.0           NaN  3418314.0         1.0  3.516186e+08         0.0   \n",
       "4   0.0           2.0  3418319.0         0.0  4.310529e+08         0.0   \n",
       "\n",
       "                                      User Name  Scheduling Class  Priority  \\\n",
       "0  70s3v5qRyCO/1PCdI6fVXnrW8FU/w+5CKRSa72xgcIo=               3.0       9.0   \n",
       "1  70s3v5qRyCO/1PCdI6fVXnrW8FU/w+5CKRSa72xgcIo=               3.0       9.0   \n",
       "2  70s3v5qRyCO/1PCdI6fVXnrW8FU/w+5CKRSa72xgcIo=               3.0       9.0   \n",
       "3  70s3v5qRyCO/1PCdI6fVXnrW8FU/w+5CKRSa72xgcIo=               3.0       9.0   \n",
       "4  70s3v5qRyCO/1PCdI6fVXnrW8FU/w+5CKRSa72xgcIo=               3.0       9.0   \n",
       "\n",
       "   CPU Request  Memory Request  Disk Space Request  \\\n",
       "0          NaN             NaN                 NaN   \n",
       "1          NaN             NaN                 NaN   \n",
       "2        0.125         0.07446            0.000424   \n",
       "3        0.125         0.07446            0.000424   \n",
       "4          NaN             NaN                 NaN   \n",
       "\n",
       "   Different Machine Restriction  \n",
       "0                            NaN  \n",
       "1                            NaN  \n",
       "2                            0.0  \n",
       "3                            0.0  \n",
       "4                            NaN  "
      ]
     },
     "execution_count": 4,
     "metadata": {},
     "output_type": "execute_result"
    }
   ],
   "source": [
    "task_event.head()"
   ]
  },
  {
   "cell_type": "markdown",
   "metadata": {},
   "source": [
    "### Data Selection\n",
    "---\n",
    "In this section, we will select the data that will be use as a sample dataset for model training later on."
   ]
  },
  {
   "cell_type": "code",
   "execution_count": 5,
   "metadata": {},
   "outputs": [],
   "source": [
    "job_event = job_event[job_event['Time'] != 0]\n",
    "job_event = job_event[job_event['Time'] < 604800600000]\n",
    "job_event = job_event[job_event['Event Type'] > 1]\n",
    "job_event = job_event[job_event['Event Type'] < 7]"
   ]
  },
  {
   "cell_type": "code",
   "execution_count": 6,
   "metadata": {},
   "outputs": [],
   "source": [
    "task_event = task_event[task_event['Time'] != 0]\n",
    "task_event = task_event[task_event['Time'] < 604800600000]\n",
    "task_event = task_event[task_event['Event Type'] > 1]\n",
    "task_event = task_event[task_event['Event Type'] < 7]"
   ]
  },
  {
   "cell_type": "markdown",
   "metadata": {},
   "source": [
    "### Data Intergration\n",
    "---\n",
    "In this section, we perform data aggregation to find out the maximum amount of resource requested before we merge job event table and task event table."
   ]
  },
  {
   "cell_type": "code",
   "execution_count": 7,
   "metadata": {},
   "outputs": [],
   "source": [
    "task_event = task_event.groupby('Job ID').agg({'CPU Request':'max','Memory Request':'max','Disk Space Request':'max'})"
   ]
  },
  {
   "cell_type": "code",
   "execution_count": 8,
   "metadata": {},
   "outputs": [],
   "source": [
    "job_event = job_event.merge(task_event, how='outer', on=\"Job ID\", suffixes={' Job',' Task'})\n",
    "job_event = job_event.dropna(subset=['Job Name','CPU Request'])"
   ]
  },
  {
   "cell_type": "markdown",
   "metadata": {},
   "source": [
    "### Data Transformation\n",
    "---\n",
    "In this section, we grouped all the event type into two group which are success and failure. We mark success job as 1 and job failure as 0"
   ]
  },
  {
   "cell_type": "code",
   "execution_count": 9,
   "metadata": {},
   "outputs": [],
   "source": [
    "job_event = job_event.replace({'Event Type':{2:0, 3:0, 4:1, 5:0, 6:0}})"
   ]
  },
  {
   "cell_type": "code",
   "execution_count": 10,
   "metadata": {},
   "outputs": [
    {
     "data": {
      "text/plain": [
       "Text(0.5, 1.0, 'Feature Correlating with Job Failure')"
      ]
     },
     "execution_count": 10,
     "metadata": {},
     "output_type": "execute_result"
    },
    {
     "data": {
      "image/png": "[encoded data removed]",
      "text/plain": [
       "<Figure size 576x864 with 2 Axes>"
      ]
     },
     "metadata": {
      "needs_background": "light"
     },
     "output_type": "display_data"
    }
   ],
   "source": [
    "plt.figure(figsize=(8,12))\n",
    "heatmap = sns.heatmap(job_event.corr()[['Event Type']].sort_values(by='Event Type', ascending=False).compute(), vmin=-1, vmax=1, annot=True, cmap='BrBG')\n",
    "heatmap.set_title('Feature Correlating with Job Failure')"
   ]
  },
  {
   "cell_type": "code",
   "execution_count": 11,
   "metadata": {},
   "outputs": [],
   "source": [
    "job_event = job_event.drop(columns=['Time','Job ID','Missing Info','Job Name','Logical Job Name','User Name'])"
   ]
  },
  {
   "cell_type": "code",
   "execution_count": 12,
   "metadata": {},
   "outputs": [
    {
     "data": {
      "text/html": [
       "<div>\n",
       "<style scoped>\n",
       "    .dataframe tbody tr th:only-of-type {\n",
       "        vertical-align: middle;\n",
       "    }\n",
       "\n",
       "    .dataframe tbody tr th {\n",
       "        vertical-align: top;\n",
       "    }\n",
       "\n",
       "    .dataframe thead th {\n",
       "        text-align: right;\n",
       "    }\n",
       "</style>\n",
       "<table border=\"1\" class=\"dataframe\">\n",
       "  <thead>\n",
       "    <tr style=\"text-align: right;\">\n",
       "      <th></th>\n",
       "      <th>Event Type</th>\n",
       "      <th>Scheduling Class</th>\n",
       "      <th>CPU Request</th>\n",
       "      <th>Memory Request</th>\n",
       "      <th>Disk Space Request</th>\n",
       "    </tr>\n",
       "  </thead>\n",
       "  <tbody>\n",
       "    <tr>\n",
       "      <th>0</th>\n",
       "      <td>1.0</td>\n",
       "      <td>1.0</td>\n",
       "      <td>0.06250</td>\n",
       "      <td>0.006218</td>\n",
       "      <td>0.000045</td>\n",
       "    </tr>\n",
       "    <tr>\n",
       "      <th>1</th>\n",
       "      <td>1.0</td>\n",
       "      <td>1.0</td>\n",
       "      <td>0.06250</td>\n",
       "      <td>0.103400</td>\n",
       "      <td>0.000038</td>\n",
       "    </tr>\n",
       "    <tr>\n",
       "      <th>2</th>\n",
       "      <td>0.0</td>\n",
       "      <td>1.0</td>\n",
       "      <td>0.03125</td>\n",
       "      <td>0.009323</td>\n",
       "      <td>0.000154</td>\n",
       "    </tr>\n",
       "    <tr>\n",
       "      <th>3</th>\n",
       "      <td>1.0</td>\n",
       "      <td>1.0</td>\n",
       "      <td>0.01250</td>\n",
       "      <td>0.028630</td>\n",
       "      <td>0.000077</td>\n",
       "    </tr>\n",
       "    <tr>\n",
       "      <th>4</th>\n",
       "      <td>1.0</td>\n",
       "      <td>1.0</td>\n",
       "      <td>0.03125</td>\n",
       "      <td>0.011250</td>\n",
       "      <td>0.000011</td>\n",
       "    </tr>\n",
       "  </tbody>\n",
       "</table>\n",
       "</div>"
      ],
      "text/plain": [
       "   Event Type  Scheduling Class  CPU Request  Memory Request  \\\n",
       "0         1.0               1.0      0.06250        0.006218   \n",
       "1         1.0               1.0      0.06250        0.103400   \n",
       "2         0.0               1.0      0.03125        0.009323   \n",
       "3         1.0               1.0      0.01250        0.028630   \n",
       "4         1.0               1.0      0.03125        0.011250   \n",
       "\n",
       "   Disk Space Request  \n",
       "0            0.000045  \n",
       "1            0.000038  \n",
       "2            0.000154  \n",
       "3            0.000077  \n",
       "4            0.000011  "
      ]
     },
     "execution_count": 12,
     "metadata": {},
     "output_type": "execute_result"
    }
   ],
   "source": [
    "job_event.head()"
   ]
  },
  {
   "cell_type": "code",
   "execution_count": 13,
   "metadata": {},
   "outputs": [
    {
     "data": {
      "text/plain": [
       "['d:/ADMIN/Documents/FYP/Selected Job.csv']"
      ]
     },
     "execution_count": 13,
     "metadata": {},
     "output_type": "execute_result"
    }
   ],
   "source": [
    "job_event.to_csv('Selected Job.csv', single_file=True)"
   ]
  },
  {
   "cell_type": "markdown",
   "metadata": {},
   "source": [
    "## Modelling\n",
    "---"
   ]
  },
  {
   "cell_type": "code",
   "execution_count": 14,
   "metadata": {},
   "outputs": [
    {
     "data": {
      "image/png": "[encoded data removed]",
      "text/plain": [
       "<Figure size 432x288 with 1 Axes>"
      ]
     },
     "metadata": {
      "needs_background": "light"
     },
     "output_type": "display_data"
    }
   ],
   "source": [
    "sns.countplot(data=job_event.compute(),x='Event Type')\n",
    "plt.show()"
   ]
  },
  {
   "cell_type": "code",
   "execution_count": 15,
   "metadata": {},
   "outputs": [],
   "source": [
    "x = job_event.drop(columns=['Event Type']).compute()\n",
    "y = job_event['Event Type'].compute()"
   ]
  },
  {
   "cell_type": "markdown",
   "metadata": {},
   "source": [
    "### SMOTE\n",
    "---\n",
    "In this section, we use SMOTE function to generate synthetic data to solve the class imbalance before we start the model training"
   ]
  },
  {
   "cell_type": "code",
   "execution_count": 16,
   "metadata": {},
   "outputs": [],
   "source": [
    "sampling_method = SMOTE()\n",
    "x,y = sampling_method.fit_resample(x,y)\n",
    "X_train, X_test, Y_train, Y_test = train_test_split(x, y, test_size=0.3)"
   ]
  },
  {
   "cell_type": "markdown",
   "metadata": {},
   "source": [
    "### Traditional Machine Learning Model"
   ]
  },
  {
   "cell_type": "markdown",
   "metadata": {},
   "source": [
    "#### Logistic Regression"
   ]
  },
  {
   "cell_type": "code",
   "execution_count": 17,
   "metadata": {},
   "outputs": [
    {
     "data": {
      "text/plain": [
       "['Logistic Regression.model']"
      ]
     },
     "execution_count": 17,
     "metadata": {},
     "output_type": "execute_result"
    }
   ],
   "source": [
    "Logistic_Regression = LogisticRegression(max_iter=10000000)\n",
    "Logistic_Regression.fit(X_train, Y_train.values.ravel())\n",
    "joblib.dump(Logistic_Regression, 'Logistic Regression.model')"
   ]
  },
  {
   "cell_type": "markdown",
   "metadata": {},
   "source": [
    "#### Decision Tree"
   ]
  },
  {
   "cell_type": "code",
   "execution_count": 18,
   "metadata": {},
   "outputs": [
    {
     "data": {
      "text/plain": [
       "['Decision Tree.model']"
      ]
     },
     "execution_count": 18,
     "metadata": {},
     "output_type": "execute_result"
    }
   ],
   "source": [
    "Decision_Tree = DecisionTreeClassifier()\n",
    "Decision_Tree.fit(X_train, Y_train)\n",
    "joblib.dump(Decision_Tree, 'Decision Tree.model')"
   ]
  },
  {
   "cell_type": "markdown",
   "metadata": {},
   "source": [
    "#### Random Forest"
   ]
  },
  {
   "cell_type": "code",
   "execution_count": 19,
   "metadata": {},
   "outputs": [
    {
     "data": {
      "text/plain": [
       "['Random Forest.model']"
      ]
     },
     "execution_count": 19,
     "metadata": {},
     "output_type": "execute_result"
    }
   ],
   "source": [
    "Random_Forest = RandomForestClassifier()\n",
    "Random_Forest.fit(X_train, Y_train.values.ravel())\n",
    "joblib.dump(Random_Forest, 'Random Forest.model')"
   ]
  },
  {
   "cell_type": "markdown",
   "metadata": {},
   "source": [
    "#### Gradient Boosting"
   ]
  },
  {
   "cell_type": "code",
   "execution_count": 20,
   "metadata": {},
   "outputs": [
    {
     "data": {
      "text/plain": [
       "['Gradient Boosting.model']"
      ]
     },
     "execution_count": 20,
     "metadata": {},
     "output_type": "execute_result"
    }
   ],
   "source": [
    "Gradient_Boosting = GradientBoostingClassifier()\n",
    "Gradient_Boosting.fit(X_train, Y_train.values.ravel())\n",
    "joblib.dump(Gradient_Boosting, 'Gradient Boosting.model')"
   ]
  },
  {
   "cell_type": "markdown",
   "metadata": {},
   "source": [
    "#### Extreme Gradient Boosting"
   ]
  },
  {
   "cell_type": "code",
   "execution_count": 21,
   "metadata": {},
   "outputs": [
    {
     "name": "stdout",
     "output_type": "stream",
     "text": [
      "[13:02:33] WARNING: C:/Users/Administrator/workspace/xgboost-win64_release_1.5.1/src/learner.cc:1115: Starting in XGBoost 1.3.0, the default evaluation metric used with the objective 'binary:logistic' was changed from 'error' to 'logloss'. Explicitly set eval_metric if you'd like to restore the old behavior.\n"
     ]
    },
    {
     "data": {
      "text/plain": [
       "['Extreme Gradient Boosting.model']"
      ]
     },
     "execution_count": 21,
     "metadata": {},
     "output_type": "execute_result"
    }
   ],
   "source": [
    "XG_Boost = XGBClassifier()\n",
    "XG_Boost.fit(X_train, Y_train.values.ravel())\n",
    "joblib.dump(XG_Boost, 'Extreme Gradient Boosting.model')"
   ]
  },
  {
   "cell_type": "markdown",
   "metadata": {},
   "source": [
    "### Deep Learning Model"
   ]
  },
  {
   "cell_type": "code",
   "execution_count": 22,
   "metadata": {},
   "outputs": [],
   "source": [
    "earlystopping = callbacks.EarlyStopping(monitor =\"loss\", mode =\"min\", patience = 10, restore_best_weights = True)"
   ]
  },
  {
   "cell_type": "markdown",
   "metadata": {},
   "source": [
    "#### Single Layer LSTM"
   ]
  },
  {
   "cell_type": "code",
   "execution_count": null,
   "metadata": {},
   "outputs": [],
   "source": [
    "LSTM1 = Sequential()\n",
    "\n",
    "LSTM1.add(LSTM(units = 50, input_shape = (X_train.shape[1], 1)))\n",
    "LSTM1.add(Dropout(0.2))\n",
    "\n",
    "LSTM1.add(Dense(units = 1))\n",
    "\n",
    "LSTM1.compile(optimizer = 'adam', loss = 'binary_crossentropy', metrics=['accuracy'])\n",
    "\n",
    "LSTM1.fit(X_train, Y_train, validation_data=(X_test, Y_test), epochs=100, callbacks=[earlystopping])\n",
    "\n",
    "LSTM1.save('LSTM1.keras')"
   ]
  },
  {
   "cell_type": "markdown",
   "metadata": {},
   "source": [
    "#### Bi-Layer LSTM"
   ]
  },
  {
   "cell_type": "code",
   "execution_count": null,
   "metadata": {},
   "outputs": [],
   "source": [
    "LSTM2 = Sequential()\n",
    "\n",
    "LSTM2.add(LSTM(units = 50, return_sequences = True, input_shape = (X_train.shape[1], 1)))\n",
    "LSTM2.add(Dropout(0.2))\n",
    "\n",
    "LSTM2.add(LSTM(units = 50))\n",
    "LSTM2.add(Dropout(0.2))\n",
    "\n",
    "LSTM2.add(Dense(units = 1))\n",
    "\n",
    "LSTM2.compile(optimizer = 'adam', loss = 'binary_crossentropy', metrics=['accuracy'])\n",
    "\n",
    "LSTM2.fit(X_train, Y_train,validation_data=(X_test, Y_test), epochs=100, callbacks=[earlystopping])\n",
    "\n",
    "LSTM2.save('LSTM2.keras')"
   ]
  },
  {
   "cell_type": "markdown",
   "metadata": {},
   "source": [
    "#### Tri-Layer LSTM"
   ]
  },
  {
   "cell_type": "code",
   "execution_count": null,
   "metadata": {},
   "outputs": [],
   "source": [
    "LSTM3 = Sequential()\n",
    "\n",
    "LSTM3.add(LSTM(units = 50, return_sequences = True, input_shape = (X_train.shape[1], 1)))\n",
    "LSTM3.add(Dropout(0.2))\n",
    "\n",
    "LSTM3.add(LSTM(units = 50, return_sequences = True))\n",
    "LSTM3.add(Dropout(0.2))\n",
    "\n",
    "LSTM3.add(LSTM(units = 50))\n",
    "LSTM3.add(Dropout(0.2))\n",
    "\n",
    "LSTM3.add(Dense(units = 1))\n",
    "\n",
    "LSTM3.compile(optimizer = 'adam', loss = 'binary_crossentropy', metrics=['accuracy'])\n",
    "\n",
    "history3 = LSTM3.fit(X_train, Y_train,validation_data=(X_test, Y_test), epochs=100, callbacks=[earlystopping] )\n",
    "\n",
    "LSTM3.save('LSTM3.keras')"
   ]
  },
  {
   "cell_type": "code",
   "execution_count": null,
   "metadata": {},
   "outputs": [],
   "source": []
  }
 ],
 "metadata": {
  "environment": {
   "kernel": "python3",
   "name": "common-cu110.m87",
   "type": "gcloud",
   "uri": "gcr.io/deeplearning-platform-release/base-cu110:m87"
  },
  "kernelspec": {
   "display_name": "Python 3 (ipykernel)",
   "language": "python",
   "name": "python3"
  },
  "language_info": {
   "codemirror_mode": {
    "name": "ipython",
    "version": 3
   },
   "file_extension": ".py",
   "mimetype": "text/x-python",
   "name": "python",
   "nbconvert_exporter": "python",
   "pygments_lexer": "ipython3",
   "version": "3.9.9"
  }
 },
 "nbformat": 4,
 "nbformat_minor": 4
}
