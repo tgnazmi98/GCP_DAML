{
 "cells": [
  {
   "cell_type": "markdown",
   "metadata": {},
   "source": [
    "## Packages\n",
    "---\n",
    "In this section, we import all the packages that will be used in this experiment"
   ]
  },
  {
   "cell_type": "code",
   "execution_count": null,
   "metadata": {},
   "outputs": [],
   "source": [
    "#Data Downloading\n",
    "from urllib.request import urlopen\n",
    "import os\n",
    "import gzip\n",
    "\n",
    "# Dataframe Packages\n",
    "import dask.dataframe as dd\n",
    "\n",
    "# Data Visualization Packages\n",
    "import seaborn as sns\n",
    "import matplotlib.pyplot as plt\n",
    "\n",
    "# Training Data Preparation\n",
    "from imblearn.over_sampling import SMOTE\n",
    "from sklearn.model_selection import train_test_split\n",
    "\n",
    "# Traditional Machine Learning Packages\n",
    "from sklearn.linear_model import LogisticRegression\n",
    "from sklearn.tree import DecisionTreeClassifier\n",
    "from sklearn.ensemble import RandomForestClassifier, GradientBoostingClassifier\n",
    "from xgboost import XGBClassifier\n",
    "\n",
    "# Deep Learning Packages\n",
    "from keras.models import Sequential\n",
    "from keras.layers import Dense\n",
    "from keras.layers import LSTM\n",
    "from keras.layers import Dropout\n",
    "from keras import callbacks\n",
    "\n",
    "# Saving ML Model\n",
    "import joblib\n",
    "\n",
    "import warnings\n",
    "warnings.filterwarnings(\"ignore\")"
   ]
  },
  {
   "cell_type": "markdown",
   "metadata": {},
   "source": [
    "## Data Downloading\n",
    "---\n",
    "In this section, we will be using urllib to request and download job event and task event table from google cloud storage"
   ]
  },
  {
   "cell_type": "code",
   "execution_count": null,
   "metadata": {
    "tags": []
   },
   "outputs": [
    {
     "name": "stdout",
     "output_type": "stream",
     "text": [
      "Task Event Table\n",
      "Download Started\n",
      "Download Complete\n"
     ]
    }
   ],
   "source": [
    "print('Task Event Table')\n",
    "print('Download Started')\n",
    "#Task Usage Table\n",
    "url1 = 'https://commondatastorage.googleapis.com/clusterdata-2011-2/task_events/part-'\n",
    "url2 = '-of-00500.csv.gz'\n",
    "for x in range(500):\n",
    "    while True:\n",
    "        try:\n",
    "            url = url1+(\"%05d\" % x)+url2\n",
    "            fname = 'data/task_events/part-'+(\"%05d\" % x)+'-of-00500.csv.gz'\n",
    "            data = urlopen(url).read()\n",
    "            with open(fname, 'wb') as f:\n",
    "                f.write(data)\n",
    "        except:\n",
    "            continue\n",
    "        break\n",
    "print('Download Complete')"
   ]
  },
  {
   "cell_type": "markdown",
   "metadata": {},
   "source": [
    "## Data Extraction\n",
    "---\n",
    "In this section, the data that is downloaded from the cloud will be extracted"
   ]
  },
  {
   "cell_type": "code",
   "execution_count": null,
   "metadata": {},
   "outputs": [],
   "source": [
    "def gunzip(source_filepath, dest_filepath, block_size=65536):\n",
    "    with gzip.open(source_filepath, 'rb') as s_file, \\\n",
    "            open(dest_filepath, 'wb') as d_file:\n",
    "        while True:\n",
    "            block = s_file.read(block_size)\n",
    "            if not block:\n",
    "                break\n",
    "            else:\n",
    "                d_file.write(block)"
   ]
  },
  {
   "cell_type": "code",
   "execution_count": null,
   "metadata": {},
   "outputs": [
    {
     "name": "stdout",
     "output_type": "stream",
     "text": [
      "Extraction Started\n",
      "Extraction Finished\n"
     ]
    }
   ],
   "source": [
    "path1 = 'data/task_events/part-'\n",
    "path2 = '-of-00500.csv.gz'\n",
    "path3 = '-of-00500.csv'\n",
    "print('Extraction Started')\n",
    "for x in range(500):\n",
    "    spath = path1 + ('%05d' % x) + path2\n",
    "    dpath = path1 + ('%05d' % x) + path3\n",
    "    gunzip(spath, dpath)\n",
    "    os.remove(spath)\n",
    "print('Extraction Finished')"
   ]
  },
  {
   "cell_type": "markdown",
   "metadata": {},
   "source": [
    "## Data Preparation"
   ]
  },
  {
   "cell_type": "markdown",
   "metadata": {},
   "source": [
    "### Data Extraction\n",
    "---\n",
    "In this section, we load the data into the memory. We use dask dataframe as the amount of data is large and cannot be save at the RAM"
   ]
  },
  {
   "cell_type": "code",
   "execution_count": null,
   "metadata": {},
   "outputs": [],
   "source": [
    "task_event = dd.read_csv('data/task_events/*.csv', names=['Time','Missing Info','Job ID','Task Index','Machine ID','Event Type','User Name','Scheduling Class','Priority','CPU Request','Memory Request','Disk Space Request','Different Machine Restriction'],assume_missing=True)"
   ]
  },
  {
   "cell_type": "code",
   "execution_count": null,
   "metadata": {},
   "outputs": [
    {
     "data": {
      "text/html": [
       "<div>\n",
       "<style scoped>\n",
       "    .dataframe tbody tr th:only-of-type {\n",
       "        vertical-align: middle;\n",
       "    }\n",
       "\n",
       "    .dataframe tbody tr th {\n",
       "        vertical-align: top;\n",
       "    }\n",
       "\n",
       "    .dataframe thead th {\n",
       "        text-align: right;\n",
       "    }\n",
       "</style>\n",
       "<table border=\"1\" class=\"dataframe\">\n",
       "  <thead>\n",
       "    <tr style=\"text-align: right;\">\n",
       "      <th></th>\n",
       "      <th>Time</th>\n",
       "      <th>Missing Info</th>\n",
       "      <th>Job ID</th>\n",
       "      <th>Task Index</th>\n",
       "      <th>Machine ID</th>\n",
       "      <th>Event Type</th>\n",
       "      <th>User Name</th>\n",
       "      <th>Scheduling Class</th>\n",
       "      <th>Priority</th>\n",
       "      <th>CPU Request</th>\n",
       "      <th>Memory Request</th>\n",
       "      <th>Disk Space Request</th>\n",
       "      <th>Different Machine Restriction</th>\n",
       "    </tr>\n",
       "  </thead>\n",
       "  <tbody>\n",
       "    <tr>\n",
       "      <th>0</th>\n",
       "      <td>0.0</td>\n",
       "      <td>2.0</td>\n",
       "      <td>3418309.0</td>\n",
       "      <td>0.0</td>\n",
       "      <td>4.155527e+09</td>\n",
       "      <td>0.0</td>\n",
       "      <td>70s3v5qRyCO/1PCdI6fVXnrW8FU/w+5CKRSa72xgcIo=</td>\n",
       "      <td>3.0</td>\n",
       "      <td>9.0</td>\n",
       "      <td>NaN</td>\n",
       "      <td>NaN</td>\n",
       "      <td>NaN</td>\n",
       "      <td>NaN</td>\n",
       "    </tr>\n",
       "    <tr>\n",
       "      <th>1</th>\n",
       "      <td>0.0</td>\n",
       "      <td>2.0</td>\n",
       "      <td>3418309.0</td>\n",
       "      <td>1.0</td>\n",
       "      <td>3.291507e+08</td>\n",
       "      <td>0.0</td>\n",
       "      <td>70s3v5qRyCO/1PCdI6fVXnrW8FU/w+5CKRSa72xgcIo=</td>\n",
       "      <td>3.0</td>\n",
       "      <td>9.0</td>\n",
       "      <td>NaN</td>\n",
       "      <td>NaN</td>\n",
       "      <td>NaN</td>\n",
       "      <td>NaN</td>\n",
       "    </tr>\n",
       "    <tr>\n",
       "      <th>2</th>\n",
       "      <td>0.0</td>\n",
       "      <td>NaN</td>\n",
       "      <td>3418314.0</td>\n",
       "      <td>0.0</td>\n",
       "      <td>3.938719e+09</td>\n",
       "      <td>0.0</td>\n",
       "      <td>70s3v5qRyCO/1PCdI6fVXnrW8FU/w+5CKRSa72xgcIo=</td>\n",
       "      <td>3.0</td>\n",
       "      <td>9.0</td>\n",
       "      <td>0.125</td>\n",
       "      <td>0.07446</td>\n",
       "      <td>0.000424</td>\n",
       "      <td>0.0</td>\n",
       "    </tr>\n",
       "    <tr>\n",
       "      <th>3</th>\n",
       "      <td>0.0</td>\n",
       "      <td>NaN</td>\n",
       "      <td>3418314.0</td>\n",
       "      <td>1.0</td>\n",
       "      <td>3.516186e+08</td>\n",
       "      <td>0.0</td>\n",
       "      <td>70s3v5qRyCO/1PCdI6fVXnrW8FU/w+5CKRSa72xgcIo=</td>\n",
       "      <td>3.0</td>\n",
       "      <td>9.0</td>\n",
       "      <td>0.125</td>\n",
       "      <td>0.07446</td>\n",
       "      <td>0.000424</td>\n",
       "      <td>0.0</td>\n",
       "    </tr>\n",
       "    <tr>\n",
       "      <th>4</th>\n",
       "      <td>0.0</td>\n",
       "      <td>2.0</td>\n",
       "      <td>3418319.0</td>\n",
       "      <td>0.0</td>\n",
       "      <td>4.310529e+08</td>\n",
       "      <td>0.0</td>\n",
       "      <td>70s3v5qRyCO/1PCdI6fVXnrW8FU/w+5CKRSa72xgcIo=</td>\n",
       "      <td>3.0</td>\n",
       "      <td>9.0</td>\n",
       "      <td>NaN</td>\n",
       "      <td>NaN</td>\n",
       "      <td>NaN</td>\n",
       "      <td>NaN</td>\n",
       "    </tr>\n",
       "  </tbody>\n",
       "</table>\n",
       "</div>"
      ],
      "text/plain": [
       "   Time  Missing Info     Job ID  Task Index    Machine ID  Event Type  \\\n",
       "0   0.0           2.0  3418309.0         0.0  4.155527e+09         0.0   \n",
       "1   0.0           2.0  3418309.0         1.0  3.291507e+08         0.0   \n",
       "2   0.0           NaN  3418314.0         0.0  3.938719e+09         0.0   \n",
       "3   0.0           NaN  3418314.0         1.0  3.516186e+08         0.0   \n",
       "4   0.0           2.0  3418319.0         0.0  4.310529e+08         0.0   \n",
       "\n",
       "                                      User Name  Scheduling Class  Priority  \\\n",
       "0  70s3v5qRyCO/1PCdI6fVXnrW8FU/w+5CKRSa72xgcIo=               3.0       9.0   \n",
       "1  70s3v5qRyCO/1PCdI6fVXnrW8FU/w+5CKRSa72xgcIo=               3.0       9.0   \n",
       "2  70s3v5qRyCO/1PCdI6fVXnrW8FU/w+5CKRSa72xgcIo=               3.0       9.0   \n",
       "3  70s3v5qRyCO/1PCdI6fVXnrW8FU/w+5CKRSa72xgcIo=               3.0       9.0   \n",
       "4  70s3v5qRyCO/1PCdI6fVXnrW8FU/w+5CKRSa72xgcIo=               3.0       9.0   \n",
       "\n",
       "   CPU Request  Memory Request  Disk Space Request  \\\n",
       "0          NaN             NaN                 NaN   \n",
       "1          NaN             NaN                 NaN   \n",
       "2        0.125         0.07446            0.000424   \n",
       "3        0.125         0.07446            0.000424   \n",
       "4          NaN             NaN                 NaN   \n",
       "\n",
       "   Different Machine Restriction  \n",
       "0                            NaN  \n",
       "1                            NaN  \n",
       "2                            0.0  \n",
       "3                            0.0  \n",
       "4                            NaN  "
      ]
     },
     "execution_count": 6,
     "metadata": {},
     "output_type": "execute_result"
    }
   ],
   "source": [
    "task_event.head()"
   ]
  },
  {
   "cell_type": "markdown",
   "metadata": {},
   "source": [
    "### Data Selection\n",
    "---\n",
    "In this section, we will select the data that will be use as a sample dataset for model training later on."
   ]
  },
  {
   "cell_type": "code",
   "execution_count": null,
   "metadata": {},
   "outputs": [],
   "source": [
    "task_event = task_event[task_event.Time != 0]\n",
    "task_event = task_event[task_event.Time < 604800600000]\n",
    "task_event = task_event[task_event['Event Type'] > 1]\n",
    "task_event = task_event[task_event['Event Type'] < 7]"
   ]
  },
  {
   "cell_type": "markdown",
   "metadata": {},
   "source": [
    "### Data Transformation\n",
    "---\n",
    "In this section, we grouped all the event type into two group which are success and failure. We mark success job as 1 and job failure as 0"
   ]
  },
  {
   "cell_type": "code",
   "execution_count": null,
   "metadata": {},
   "outputs": [],
   "source": [
    "task_event = task_event.replace({'Event Type':{2:0, 3:0, 4:1, 5:0, 6:0}})"
   ]
  },
  {
   "cell_type": "code",
   "execution_count": null,
   "metadata": {},
   "outputs": [
    {
     "data": {
      "text/plain": [
       "Text(0.5, 1.0, 'Feature Correlating with Task Failure')"
      ]
     },
     "execution_count": 9,
     "metadata": {},
     "output_type": "execute_result"
    },
    {
     "data": {
      "image/png": "[encoded data removed]",
      "text/plain": [
       "<Figure size 576x864 with 2 Axes>"
      ]
     },
     "metadata": {
      "needs_background": "light"
     },
     "output_type": "display_data"
    }
   ],
   "source": [
    "plt.figure(figsize=(8,12))\n",
    "heatmap = sns.heatmap(task_event.corr()[['Event Type']].sort_values(by='Event Type', ascending=False).compute(), vmin=-1, vmax=1, annot=True, cmap='BrBG')\n",
    "heatmap.set_title('Feature Correlating with Task Failure')"
   ]
  },
  {
   "cell_type": "code",
   "execution_count": null,
   "metadata": {},
   "outputs": [],
   "source": [
    "task_event = task_event.drop(columns=['Missing Info','Job ID','Task Index','Machine ID','Time','User Name','Different Machine Restriction'])"
   ]
  },
  {
   "cell_type": "code",
   "execution_count": null,
   "metadata": {},
   "outputs": [
    {
     "data": {
      "text/html": [
       "<div>\n",
       "<style scoped>\n",
       "    .dataframe tbody tr th:only-of-type {\n",
       "        vertical-align: middle;\n",
       "    }\n",
       "\n",
       "    .dataframe tbody tr th {\n",
       "        vertical-align: top;\n",
       "    }\n",
       "\n",
       "    .dataframe thead th {\n",
       "        text-align: right;\n",
       "    }\n",
       "</style>\n",
       "<table border=\"1\" class=\"dataframe\">\n",
       "  <thead>\n",
       "    <tr style=\"text-align: right;\">\n",
       "      <th></th>\n",
       "      <th>Event Type</th>\n",
       "      <th>Scheduling Class</th>\n",
       "      <th>Priority</th>\n",
       "      <th>CPU Request</th>\n",
       "      <th>Memory Request</th>\n",
       "      <th>Disk Space Request</th>\n",
       "    </tr>\n",
       "  </thead>\n",
       "  <tbody>\n",
       "    <tr>\n",
       "      <th>277322</th>\n",
       "      <td>1.0</td>\n",
       "      <td>0.0</td>\n",
       "      <td>2.0</td>\n",
       "      <td>0.02499</td>\n",
       "      <td>0.07959</td>\n",
       "      <td>0.000386</td>\n",
       "    </tr>\n",
       "    <tr>\n",
       "      <th>277323</th>\n",
       "      <td>1.0</td>\n",
       "      <td>0.0</td>\n",
       "      <td>2.0</td>\n",
       "      <td>0.02499</td>\n",
       "      <td>0.07959</td>\n",
       "      <td>0.000386</td>\n",
       "    </tr>\n",
       "    <tr>\n",
       "      <th>277324</th>\n",
       "      <td>1.0</td>\n",
       "      <td>0.0</td>\n",
       "      <td>2.0</td>\n",
       "      <td>0.02499</td>\n",
       "      <td>0.07959</td>\n",
       "      <td>0.000386</td>\n",
       "    </tr>\n",
       "    <tr>\n",
       "      <th>277325</th>\n",
       "      <td>1.0</td>\n",
       "      <td>0.0</td>\n",
       "      <td>2.0</td>\n",
       "      <td>0.02499</td>\n",
       "      <td>0.07959</td>\n",
       "      <td>0.000386</td>\n",
       "    </tr>\n",
       "    <tr>\n",
       "      <th>277326</th>\n",
       "      <td>1.0</td>\n",
       "      <td>0.0</td>\n",
       "      <td>2.0</td>\n",
       "      <td>0.02499</td>\n",
       "      <td>0.07959</td>\n",
       "      <td>0.000386</td>\n",
       "    </tr>\n",
       "  </tbody>\n",
       "</table>\n",
       "</div>"
      ],
      "text/plain": [
       "        Event Type  Scheduling Class  Priority  CPU Request  Memory Request  \\\n",
       "277322         1.0               0.0       2.0      0.02499         0.07959   \n",
       "277323         1.0               0.0       2.0      0.02499         0.07959   \n",
       "277324         1.0               0.0       2.0      0.02499         0.07959   \n",
       "277325         1.0               0.0       2.0      0.02499         0.07959   \n",
       "277326         1.0               0.0       2.0      0.02499         0.07959   \n",
       "\n",
       "        Disk Space Request  \n",
       "277322            0.000386  \n",
       "277323            0.000386  \n",
       "277324            0.000386  \n",
       "277325            0.000386  \n",
       "277326            0.000386  "
      ]
     },
     "execution_count": 11,
     "metadata": {},
     "output_type": "execute_result"
    }
   ],
   "source": [
    "task_event.head()"
   ]
  },
  {
   "cell_type": "code",
   "execution_count": null,
   "metadata": {},
   "outputs": [],
   "source": [
    "task_event.to_csv('Selected Task.csv', single_file=True)"
   ]
  },
  {
   "cell_type": "markdown",
   "metadata": {},
   "source": [
    "## Modelling\n",
    "---"
   ]
  },
  {
   "cell_type": "code",
   "execution_count": 12,
   "metadata": {},
   "outputs": [
    {
     "data": {
      "image/png": "[encoded data removed]",
      "text/plain": [
       "<Figure size 432x288 with 1 Axes>"
      ]
     },
     "metadata": {
      "needs_background": "light"
     },
     "output_type": "display_data"
    }
   ],
   "source": [
    "sns.countplot(data=task_event.compute(),x='Event Type')\n",
    "plt.show()"
   ]
  },
  {
   "cell_type": "code",
   "execution_count": 13,
   "metadata": {},
   "outputs": [],
   "source": [
    "x = task_event.drop(columns=['Event Type']).compute()\n",
    "y = task_event['Event Type'].compute()"
   ]
  },
  {
   "cell_type": "markdown",
   "metadata": {},
   "source": [
    "### SMOTE\n",
    "---\n",
    "In this section, we use SMOTE function to generate synthetic data to solve the class imbalance before we start the model training"
   ]
  },
  {
   "cell_type": "code",
   "execution_count": 15,
   "metadata": {},
   "outputs": [],
   "source": [
    "sampling_method = SMOTE()\n",
    "x,y = sampling_method.fit_resample(x,y)\n",
    "X_train, X_test, Y_train, Y_test = train_test_split(x, y, test_size=0.3)"
   ]
  },
  {
   "cell_type": "markdown",
   "metadata": {},
   "source": [
    "### Traditional Machine Learning Model"
   ]
  },
  {
   "cell_type": "markdown",
   "metadata": {},
   "source": [
    "#### Logistic Regression"
   ]
  },
  {
   "cell_type": "code",
   "execution_count": 16,
   "metadata": {},
   "outputs": [
    {
     "data": {
      "text/plain": [
       "['Logistic Regression.model']"
      ]
     },
     "execution_count": 16,
     "metadata": {},
     "output_type": "execute_result"
    }
   ],
   "source": [
    "Logistic_Regression = LogisticRegression(max_iter=10000000)\n",
    "Logistic_Regression.fit(X_train, Y_train.values.ravel())\n",
    "joblib.dump(Logistic_Regression, 'Logistic Regression.model')"
   ]
  },
  {
   "cell_type": "markdown",
   "metadata": {},
   "source": [
    "#### Decision Tree"
   ]
  },
  {
   "cell_type": "code",
   "execution_count": 17,
   "metadata": {},
   "outputs": [
    {
     "data": {
      "text/plain": [
       "['Decision Tree.model']"
      ]
     },
     "execution_count": 17,
     "metadata": {},
     "output_type": "execute_result"
    }
   ],
   "source": [
    "Decision_Tree = DecisionTreeClassifier()\n",
    "Decision_Tree.fit(X_train, Y_train)\n",
    "joblib.dump(Decision_Tree, 'Decision Tree.model')"
   ]
  },
  {
   "cell_type": "markdown",
   "metadata": {},
   "source": [
    "#### Random Forest"
   ]
  },
  {
   "cell_type": "code",
   "execution_count": 18,
   "metadata": {},
   "outputs": [
    {
     "data": {
      "text/plain": [
       "['Random Forest.model']"
      ]
     },
     "execution_count": 18,
     "metadata": {},
     "output_type": "execute_result"
    }
   ],
   "source": [
    "Random_Forest = RandomForestClassifier()\n",
    "Random_Forest.fit(X_train, Y_train.values.ravel())\n",
    "joblib.dump(Random_Forest, 'Random Forest.model')"
   ]
  },
  {
   "cell_type": "markdown",
   "metadata": {},
   "source": [
    "#### Gradient Boosting"
   ]
  },
  {
   "cell_type": "code",
   "execution_count": 19,
   "metadata": {},
   "outputs": [
    {
     "data": {
      "text/plain": [
       "['Gradient Boosting.model']"
      ]
     },
     "execution_count": 19,
     "metadata": {},
     "output_type": "execute_result"
    }
   ],
   "source": [
    "Gradient_Boosting = GradientBoostingClassifier()\n",
    "Gradient_Boosting.fit(X_train, Y_train.values.ravel())\n",
    "joblib.dump(Gradient_Boosting, 'Gradient Boosting.model')"
   ]
  },
  {
   "cell_type": "markdown",
   "metadata": {},
   "source": [
    "#### Extreme Gradient Boosting"
   ]
  },
  {
   "cell_type": "code",
   "execution_count": 20,
   "metadata": {},
   "outputs": [
    {
     "name": "stdout",
     "output_type": "stream",
     "text": [
      "[23:39:16] WARNING: C:/Users/Administrator/workspace/xgboost-win64_release_1.5.1/src/learner.cc:1115: Starting in XGBoost 1.3.0, the default evaluation metric used with the objective 'binary:logistic' was changed from 'error' to 'logloss'. Explicitly set eval_metric if you'd like to restore the old behavior.\n"
     ]
    },
    {
     "data": {
      "text/plain": [
       "['Extreme Gradient Boosting.model']"
      ]
     },
     "execution_count": 20,
     "metadata": {},
     "output_type": "execute_result"
    }
   ],
   "source": [
    "XG_Boost = XGBClassifier()\n",
    "XG_Boost.fit(X_train, Y_train.values.ravel())\n",
    "joblib.dump(XG_Boost, 'Extreme Gradient Boosting.model')"
   ]
  },
  {
   "cell_type": "markdown",
   "metadata": {},
   "source": [
    "### Deep Learning Model"
   ]
  },
  {
   "cell_type": "code",
   "execution_count": 21,
   "metadata": {},
   "outputs": [],
   "source": [
    "earlystopping = callbacks.EarlyStopping(monitor =\"val_loss\", mode =\"min\", patience = 10, restore_best_weights = True)"
   ]
  },
  {
   "cell_type": "markdown",
   "metadata": {},
   "source": [
    "#### Single Layer LSTM"
   ]
  },
  {
   "cell_type": "code",
   "execution_count": 26,
   "metadata": {},
   "outputs": [
    {
     "name": "stdout",
     "output_type": "stream",
     "text": [
      "Epoch 1/100\n",
      "334802/334802 [==============================] - 2510s 7ms/step - loss: 0.4199 - accuracy: 0.8349 - val_loss: 0.3553 - val_accuracy: 0.8519\n",
      "Epoch 2/100\n",
      "334802/334802 [==============================] - 2504s 7ms/step - loss: 0.3541 - accuracy: 0.8624 - val_loss: 0.3248 - val_accuracy: 0.8794\n",
      "Epoch 3/100\n",
      "334802/334802 [==============================] - 2809s 8ms/step - loss: 0.3231 - accuracy: 0.8806 - val_loss: 0.3051 - val_accuracy: 0.8868\n",
      "Epoch 4/100\n",
      "334802/334802 [==============================] - 2761s 8ms/step - loss: 0.3145 - accuracy: 0.8842 - val_loss: 0.2964 - val_accuracy: 0.8886\n",
      "Epoch 5/100\n",
      "334802/334802 [==============================] - 2732s 8ms/step - loss: 0.3128 - accuracy: 0.8854 - val_loss: 0.3039 - val_accuracy: 0.8911\n",
      "Epoch 6/100\n",
      "334802/334802 [==============================] - 2738s 8ms/step - loss: 0.3069 - accuracy: 0.8883 - val_loss: 0.3034 - val_accuracy: 0.8929\n",
      "Epoch 7/100\n",
      "334802/334802 [==============================] - 2736s 8ms/step - loss: 0.3098 - accuracy: 0.8884 - val_loss: 0.2946 - val_accuracy: 0.8896\n",
      "Epoch 8/100\n",
      "334802/334802 [==============================] - 2616s 8ms/step - loss: 0.3121 - accuracy: 0.8877 - val_loss: 0.2891 - val_accuracy: 0.8907\n",
      "Epoch 9/100\n",
      "334802/334802 [==============================] - 2813s 8ms/step - loss: 0.3133 - accuracy: 0.8866 - val_loss: 0.2910 - val_accuracy: 0.8926\n",
      "Epoch 10/100\n",
      "334802/334802 [==============================] - 3141s 9ms/step - loss: 0.3126 - accuracy: 0.8889 - val_loss: 0.3013 - val_accuracy: 0.8932\n",
      "Epoch 11/100\n",
      "334802/334802 [==============================] - 2755s 8ms/step - loss: 0.3110 - accuracy: 0.8886 - val_loss: 0.2879 - val_accuracy: 0.8944\n",
      "Epoch 12/100\n",
      "334802/334802 [==============================] - 2645s 8ms/step - loss: 0.3068 - accuracy: 0.8889 - val_loss: 0.3266 - val_accuracy: 0.8938\n",
      "Epoch 13/100\n",
      "334802/334802 [==============================] - 2648s 8ms/step - loss: 0.3069 - accuracy: 0.8895 - val_loss: 0.2976 - val_accuracy: 0.8922\n",
      "Epoch 14/100\n",
      "334802/334802 [==============================] - 2788s 8ms/step - loss: 0.3078 - accuracy: 0.8898 - val_loss: 0.2940 - val_accuracy: 0.8928\n",
      "Epoch 15/100\n",
      "334802/334802 [==============================] - 2941s 9ms/step - loss: 0.3080 - accuracy: 0.8904 - val_loss: 0.3068 - val_accuracy: 0.8953\n",
      "Epoch 16/100\n",
      "334802/334802 [==============================] - 2850s 9ms/step - loss: 0.3151 - accuracy: 0.8896 - val_loss: 0.3693 - val_accuracy: 0.8899\n",
      "Epoch 17/100\n",
      "334802/334802 [==============================] - 2679s 8ms/step - loss: 0.3153 - accuracy: 0.8889 - val_loss: 0.3212 - val_accuracy: 0.8884\n",
      "Epoch 18/100\n",
      "334802/334802 [==============================] - 2686s 8ms/step - loss: 0.3158 - accuracy: 0.8892 - val_loss: 0.2972 - val_accuracy: 0.8946\n",
      "Epoch 19/100\n",
      "334802/334802 [==============================] - 2686s 8ms/step - loss: 0.3153 - accuracy: 0.8894 - val_loss: 0.2882 - val_accuracy: 0.8938\n",
      "Epoch 20/100\n",
      "334802/334802 [==============================] - 2679s 8ms/step - loss: 0.3185 - accuracy: 0.8899 - val_loss: 0.2932 - val_accuracy: 0.8940\n",
      "Epoch 21/100\n",
      "334802/334802 [==============================] - 2512s 8ms/step - loss: 0.3331 - accuracy: 0.8880 - val_loss: 0.3186 - val_accuracy: 0.8915\n"
     ]
    }
   ],
   "source": [
    "LSTM1 = Sequential()\n",
    "\n",
    "LSTM1.add(LSTM(units = 50, input_shape = (X_train.shape[1], 1)))\n",
    "LSTM1.add(Dropout(0.2))\n",
    "\n",
    "LSTM1.add(Dense(units = 1))\n",
    "\n",
    "LSTM1.compile(optimizer = 'adam', loss = 'binary_crossentropy', metrics=['accuracy'])\n",
    "\n",
    "LSTM1.fit(X_train, Y_train,validation_data=(X_test, Y_test), epochs=100, callbacks=[earlystopping])\n",
    "\n",
    "LSTM1.save('LSTM1.keras')"
   ]
  },
  {
   "cell_type": "markdown",
   "metadata": {},
   "source": [
    "#### Bi-Layer LSTM"
   ]
  },
  {
   "cell_type": "code",
   "execution_count": 27,
   "metadata": {},
   "outputs": [
    {
     "name": "stdout",
     "output_type": "stream",
     "text": [
      "Epoch 1/100\n",
      "334802/334802 [==============================] - 4379s 13ms/step - loss: 0.4122 - accuracy: 0.8382 - val_loss: 0.3901 - val_accuracy: 0.8489\n",
      "Epoch 2/100\n",
      "334802/334802 [==============================] - 4353s 13ms/step - loss: 0.3685 - accuracy: 0.8549 - val_loss: 0.3313 - val_accuracy: 0.8783\n",
      "Epoch 3/100\n",
      "334802/334802 [==============================] - 4353s 13ms/step - loss: 0.3348 - accuracy: 0.8735 - val_loss: 0.3532 - val_accuracy: 0.8726\n",
      "Epoch 4/100\n",
      "334802/334802 [==============================] - 4347s 13ms/step - loss: 0.3243 - accuracy: 0.8808 - val_loss: 0.3016 - val_accuracy: 0.8812\n",
      "Epoch 5/100\n",
      "334802/334802 [==============================] - 4332s 13ms/step - loss: 0.3037 - accuracy: 0.8874 - val_loss: 0.3053 - val_accuracy: 0.8928\n",
      "Epoch 6/100\n",
      "334802/334802 [==============================] - 4337s 13ms/step - loss: 0.2948 - accuracy: 0.8895 - val_loss: 0.2976 - val_accuracy: 0.8950\n",
      "Epoch 7/100\n",
      "334802/334802 [==============================] - 4334s 13ms/step - loss: 0.2896 - accuracy: 0.8910 - val_loss: 0.2983 - val_accuracy: 0.8864\n",
      "Epoch 8/100\n",
      "334802/334802 [==============================] - 4340s 13ms/step - loss: 0.2965 - accuracy: 0.8894 - val_loss: 0.3195 - val_accuracy: 0.8932\n",
      "Epoch 9/100\n",
      "334802/334802 [==============================] - 4339s 13ms/step - loss: 0.2917 - accuracy: 0.8901 - val_loss: 0.2758 - val_accuracy: 0.8932\n",
      "Epoch 10/100\n",
      "334802/334802 [==============================] - 4345s 13ms/step - loss: 0.2924 - accuracy: 0.8903 - val_loss: 0.2698 - val_accuracy: 0.8961\n",
      "Epoch 11/100\n",
      "334802/334802 [==============================] - 4337s 13ms/step - loss: 0.3004 - accuracy: 0.8879 - val_loss: 0.2733 - val_accuracy: 0.8928\n",
      "Epoch 12/100\n",
      "334802/334802 [==============================] - 4340s 13ms/step - loss: 0.2981 - accuracy: 0.8891 - val_loss: 0.2674 - val_accuracy: 0.8929\n",
      "Epoch 13/100\n",
      "334802/334802 [==============================] - 4372s 13ms/step - loss: 0.2995 - accuracy: 0.8890 - val_loss: 0.3022 - val_accuracy: 0.8888\n",
      "Epoch 14/100\n",
      "334802/334802 [==============================] - 4385s 13ms/step - loss: 0.3090 - accuracy: 0.8874 - val_loss: 0.2926 - val_accuracy: 0.8930\n",
      "Epoch 15/100\n",
      "334802/334802 [==============================] - 4384s 13ms/step - loss: 0.3122 - accuracy: 0.8875 - val_loss: 0.2789 - val_accuracy: 0.8957\n",
      "Epoch 16/100\n",
      "334802/334802 [==============================] - 4391s 13ms/step - loss: 0.3079 - accuracy: 0.8876 - val_loss: 0.2822 - val_accuracy: 0.8923\n",
      "Epoch 17/100\n",
      "334802/334802 [==============================] - 4682s 14ms/step - loss: 0.3061 - accuracy: 0.8880 - val_loss: 0.3514 - val_accuracy: 0.8921\n",
      "Epoch 18/100\n",
      "334802/334802 [==============================] - 4843s 14ms/step - loss: 0.3137 - accuracy: 0.8873 - val_loss: 0.3018 - val_accuracy: 0.8951\n",
      "Epoch 19/100\n",
      "334802/334802 [==============================] - 4789s 14ms/step - loss: 0.3082 - accuracy: 0.8897 - val_loss: 0.2803 - val_accuracy: 0.8912\n",
      "Epoch 20/100\n",
      "334802/334802 [==============================] - 4374s 13ms/step - loss: 0.3040 - accuracy: 0.8891 - val_loss: 0.2853 - val_accuracy: 0.8954\n",
      "Epoch 21/100\n",
      "334802/334802 [==============================] - 4376s 13ms/step - loss: 0.3068 - accuracy: 0.8880 - val_loss: 0.3086 - val_accuracy: 0.8870\n",
      "Epoch 22/100\n",
      "334802/334802 [==============================] - 4368s 13ms/step - loss: 0.3139 - accuracy: 0.8881 - val_loss: 0.2912 - val_accuracy: 0.8927\n"
     ]
    }
   ],
   "source": [
    "LSTM2 = Sequential()\n",
    "\n",
    "LSTM2.add(LSTM(units = 50, return_sequences = True, input_shape = (X_train.shape[1], 1)))\n",
    "LSTM2.add(Dropout(0.2))\n",
    "\n",
    "LSTM2.add(LSTM(units = 50))\n",
    "LSTM2.add(Dropout(0.2))\n",
    "\n",
    "LSTM2.add(Dense(units = 1))\n",
    "\n",
    "LSTM2.compile(optimizer = 'adam', loss = 'binary_crossentropy', metrics=['accuracy'])\n",
    "\n",
    "LSTM2.fit(X_train, Y_train,validation_data=(X_test, Y_test), epochs=100, callbacks=[earlystopping])\n",
    "\n",
    "LSTM2.save('LSTM2.keras')"
   ]
  },
  {
   "cell_type": "markdown",
   "metadata": {},
   "source": [
    "#### Tri-Layer LSTM"
   ]
  },
  {
   "cell_type": "code",
   "execution_count": 28,
   "metadata": {},
   "outputs": [
    {
     "name": "stdout",
     "output_type": "stream",
     "text": [
      "Epoch 1/100\n",
      "334802/334802 [==============================] - 6000s 18ms/step - loss: 0.4187 - accuracy: 0.8369 - val_loss: 0.3229 - val_accuracy: 0.8820\n",
      "Epoch 2/100\n",
      "334802/334802 [==============================] - 6028s 18ms/step - loss: 0.3482 - accuracy: 0.8684 - val_loss: 0.3021 - val_accuracy: 0.8907\n",
      "Epoch 3/100\n",
      "334802/334802 [==============================] - 6053s 18ms/step - loss: 0.3214 - accuracy: 0.8819 - val_loss: 0.2994 - val_accuracy: 0.8916\n",
      "Epoch 4/100\n",
      "334802/334802 [==============================] - 6119s 18ms/step - loss: 0.3180 - accuracy: 0.8845 - val_loss: 0.2893 - val_accuracy: 0.8900\n",
      "Epoch 5/100\n",
      "334802/334802 [==============================] - 6088s 18ms/step - loss: 0.3145 - accuracy: 0.8846 - val_loss: 0.2978 - val_accuracy: 0.8925\n",
      "Epoch 6/100\n",
      "334802/334802 [==============================] - 6220s 19ms/step - loss: 0.3038 - accuracy: 0.8888 - val_loss: 0.2990 - val_accuracy: 0.8851 0\n",
      "Epoch 7/100\n",
      "334802/334802 [==============================] - 6430s 19ms/step - loss: 0.3143 - accuracy: 0.8874 - val_loss: 0.2848 - val_accuracy: 0.8939\n",
      "Epoch 8/100\n",
      "334802/334802 [==============================] - 6442s 19ms/step - loss: 0.3167 - accuracy: 0.8878 - val_loss: 0.3438 - val_accuracy: 0.8929\n",
      "Epoch 9/100\n",
      "334802/334802 [==============================] - 6543s 20ms/step - loss: 0.3232 - accuracy: 0.8881 - val_loss: 0.2977 - val_accuracy: 0.8956\n",
      "Epoch 10/100\n",
      "334802/334802 [==============================] - 6149s 18ms/step - loss: 0.3167 - accuracy: 0.8879 - val_loss: 0.2808 - val_accuracy: 0.8952\n",
      "Epoch 11/100\n",
      "334802/334802 [==============================] - 6161s 18ms/step - loss: 0.3214 - accuracy: 0.8887 - val_loss: 0.2902 - val_accuracy: 0.8903\n",
      "Epoch 12/100\n",
      "334802/334802 [==============================] - 6150s 18ms/step - loss: 0.3175 - accuracy: 0.8890 - val_loss: 0.2984 - val_accuracy: 0.8942\n",
      "Epoch 13/100\n",
      "334802/334802 [==============================] - 6155s 18ms/step - loss: 0.3267 - accuracy: 0.8874 - val_loss: 0.3138 - val_accuracy: 0.8892\n",
      "Epoch 14/100\n",
      "334802/334802 [==============================] - 6149s 18ms/step - loss: 0.3285 - accuracy: 0.8883 - val_loss: 0.3228 - val_accuracy: 0.8875\n",
      "Epoch 15/100\n",
      "334802/334802 [==============================] - 6162s 18ms/step - loss: 0.3348 - accuracy: 0.8848 - val_loss: 0.3278 - val_accuracy: 0.8951\n",
      "Epoch 16/100\n",
      "334802/334802 [==============================] - 6144s 18ms/step - loss: 0.3246 - accuracy: 0.8881 - val_loss: 0.3231 - val_accuracy: 0.8924\n",
      "Epoch 17/100\n",
      "334802/334802 [==============================] - 6171s 18ms/step - loss: 0.3376 - accuracy: 0.8852 - val_loss: 0.4474 - val_accuracy: 0.8801\n",
      "Epoch 18/100\n",
      "334802/334802 [==============================] - 6170s 18ms/step - loss: 0.3301 - accuracy: 0.8870 - val_loss: 0.3084 - val_accuracy: 0.8890\n",
      "Epoch 19/100\n",
      "334802/334802 [==============================] - 6164s 18ms/step - loss: 0.3505 - accuracy: 0.8864 - val_loss: 0.3685 - val_accuracy: 0.8903\n",
      "Epoch 20/100\n",
      "334802/334802 [==============================] - 6324s 19ms/step - loss: 0.3540 - accuracy: 0.8851 - val_loss: 0.3442 - val_accuracy: 0.8856\n"
     ]
    }
   ],
   "source": [
    "LSTM3 = Sequential()\n",
    "\n",
    "LSTM3.add(LSTM(units = 50, return_sequences = True, input_shape = (X_train.shape[1], 1)))\n",
    "LSTM3.add(Dropout(0.2))\n",
    "\n",
    "LSTM3.add(LSTM(units = 50, return_sequences = True))\n",
    "LSTM3.add(Dropout(0.2))\n",
    "\n",
    "LSTM3.add(LSTM(units = 50))\n",
    "LSTM3.add(Dropout(0.2))\n",
    "\n",
    "LSTM3.add(Dense(units = 1))\n",
    "\n",
    "LSTM3.compile(optimizer = 'adam', loss = 'binary_crossentropy', metrics=['accuracy'])\n",
    "\n",
    "history3 = LSTM3.fit(X_train, Y_train,validation_data=(X_test, Y_test), epochs=100, callbacks=[earlystopping])\n",
    "\n",
    "LSTM3.save('LSTM3.keras')"
   ]
  },
  {
   "cell_type": "code",
   "execution_count": null,
   "metadata": {},
   "outputs": [],
   "source": []
  }
 ],
 "metadata": {
  "environment": {
   "kernel": "python3",
   "name": "common-cu110.m87",
   "type": "gcloud",
   "uri": "gcr.io/deeplearning-platform-release/base-cu110:m87"
  },
  "kernelspec": {
   "display_name": "Python 3 (ipykernel)",
   "language": "python",
   "name": "python3"
  },
  "language_info": {
   "codemirror_mode": {
    "name": "ipython",
    "version": 3
   },
   "file_extension": ".py",
   "mimetype": "text/x-python",
   "name": "python",
   "nbconvert_exporter": "python",
   "pygments_lexer": "ipython3",
   "version": "3.7.9"
  }
 },
 "nbformat": 4,
 "nbformat_minor": 4
}
